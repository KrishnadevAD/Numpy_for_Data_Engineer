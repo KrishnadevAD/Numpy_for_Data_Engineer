{
 "cells": [
  {
   "cell_type": "markdown",
   "id": "3867bf4d",
   "metadata": {},
   "source": [
    "## Numpy "
   ]
  },
  {
   "cell_type": "code",
   "execution_count": 1,
   "id": "f15bb93e",
   "metadata": {},
   "outputs": [],
   "source": [
    "import numpy as np\n"
   ]
  },
  {
   "cell_type": "markdown",
   "id": "13108c68",
   "metadata": {},
   "source": [
    "#### creating a numpy array"
   ]
  },
  {
   "cell_type": "code",
   "execution_count": 3,
   "id": "358ea050",
   "metadata": {},
   "outputs": [],
   "source": [
    "myarray1=np.array((1,2,3,4,5))"
   ]
  },
  {
   "cell_type": "code",
   "execution_count": 5,
   "id": "9190ebc5",
   "metadata": {},
   "outputs": [
    {
     "data": {
      "text/plain": [
       "array([1, 2, 3, 4, 5])"
      ]
     },
     "execution_count": 5,
     "metadata": {},
     "output_type": "execute_result"
    }
   ],
   "source": [
    "myarray1"
   ]
  },
  {
   "cell_type": "code",
   "execution_count": 7,
   "id": "dc96d550",
   "metadata": {},
   "outputs": [],
   "source": [
    "myarray2=np.array([[1,2,3,4,5],[6,7,8,9,10]],dtype=float)"
   ]
  },
  {
   "cell_type": "code",
   "execution_count": 8,
   "id": "3232e7b7",
   "metadata": {},
   "outputs": [
    {
     "data": {
      "text/plain": [
       "array([[ 1.,  2.,  3.,  4.,  5.],\n",
       "       [ 6.,  7.,  8.,  9., 10.]])"
      ]
     },
     "execution_count": 8,
     "metadata": {},
     "output_type": "execute_result"
    }
   ],
   "source": [
    "myarray2"
   ]
  },
  {
   "cell_type": "code",
   "execution_count": 10,
   "id": "8ff4b6ef",
   "metadata": {},
   "outputs": [],
   "source": [
    "myarray3=np.array([[1,2,3],[6,7,8]],dtype=complex)"
   ]
  },
  {
   "cell_type": "code",
   "execution_count": 11,
   "id": "3826c386",
   "metadata": {},
   "outputs": [
    {
     "data": {
      "text/plain": [
       "array([[1.+0.j, 2.+0.j, 3.+0.j],\n",
       "       [6.+0.j, 7.+0.j, 8.+0.j]])"
      ]
     },
     "execution_count": 11,
     "metadata": {},
     "output_type": "execute_result"
    }
   ],
   "source": [
    "myarray3"
   ]
  },
  {
   "cell_type": "code",
   "execution_count": 13,
   "id": "965c264b",
   "metadata": {},
   "outputs": [],
   "source": [
    "myarray4=np.array([[1,2,3],[6,7,8]],dtype=str)"
   ]
  },
  {
   "cell_type": "code",
   "execution_count": 14,
   "id": "afaaccd5",
   "metadata": {},
   "outputs": [
    {
     "data": {
      "text/plain": [
       "array([['1', '2', '3'],\n",
       "       ['6', '7', '8']], dtype='<U1')"
      ]
     },
     "execution_count": 14,
     "metadata": {},
     "output_type": "execute_result"
    }
   ],
   "source": [
    "myarray4"
   ]
  },
  {
   "cell_type": "code",
   "execution_count": 15,
   "id": "f71e22da",
   "metadata": {},
   "outputs": [],
   "source": [
    "myarray5=np.array([[1,2,3],[6,7,8]],dtype=int)"
   ]
  },
  {
   "cell_type": "code",
   "execution_count": 16,
   "id": "cd04bbb9",
   "metadata": {},
   "outputs": [
    {
     "data": {
      "text/plain": [
       "array([[1, 2, 3],\n",
       "       [6, 7, 8]])"
      ]
     },
     "execution_count": 16,
     "metadata": {},
     "output_type": "execute_result"
    }
   ],
   "source": [
    "myarray5"
   ]
  },
  {
   "cell_type": "code",
   "execution_count": 19,
   "id": "a627bf10",
   "metadata": {},
   "outputs": [],
   "source": [
    "myarray6=np.array([[1,2,3],[6,7,8]],dtype=bool)"
   ]
  },
  {
   "cell_type": "code",
   "execution_count": 20,
   "id": "068f2167",
   "metadata": {},
   "outputs": [
    {
     "data": {
      "text/plain": [
       "array([[ True,  True,  True],\n",
       "       [ True,  True,  True]])"
      ]
     },
     "execution_count": 20,
     "metadata": {},
     "output_type": "execute_result"
    }
   ],
   "source": [
    "myarray6"
   ]
  },
  {
   "cell_type": "markdown",
   "id": "f792a3e5",
   "metadata": {},
   "source": [
    "#### array information"
   ]
  },
  {
   "cell_type": "code",
   "execution_count": 22,
   "id": "ff165115",
   "metadata": {},
   "outputs": [],
   "source": [
    "# array with element in the range  with matrix shape\n",
    "myarray7=np.arange(0,9)"
   ]
  },
  {
   "cell_type": "code",
   "execution_count": 23,
   "id": "877c6df5",
   "metadata": {},
   "outputs": [
    {
     "data": {
      "text/plain": [
       "array([0, 1, 2, 3, 4, 5, 6, 7, 8])"
      ]
     },
     "execution_count": 23,
     "metadata": {},
     "output_type": "execute_result"
    }
   ],
   "source": [
    "myarray7"
   ]
  },
  {
   "cell_type": "code",
   "execution_count": 26,
   "id": "6eb4fa4b",
   "metadata": {},
   "outputs": [],
   "source": [
    "myarray8=np.arange(0,9).reshape(3,3)"
   ]
  },
  {
   "cell_type": "code",
   "execution_count": 27,
   "id": "a27af225",
   "metadata": {},
   "outputs": [
    {
     "data": {
      "text/plain": [
       "array([[0, 1, 2],\n",
       "       [3, 4, 5],\n",
       "       [6, 7, 8]])"
      ]
     },
     "execution_count": 27,
     "metadata": {},
     "output_type": "execute_result"
    }
   ],
   "source": [
    "myarray8"
   ]
  },
  {
   "cell_type": "code",
   "execution_count": 30,
   "id": "d85b3c65",
   "metadata": {},
   "outputs": [
    {
     "ename": "ValueError",
     "evalue": "cannot reshape array of size 9 into shape (3,5)",
     "output_type": "error",
     "traceback": [
      "\u001b[1;31m---------------------------------------------------------------------------\u001b[0m",
      "\u001b[1;31mValueError\u001b[0m                                Traceback (most recent call last)",
      "Cell \u001b[1;32mIn [30], line 1\u001b[0m\n\u001b[1;32m----> 1\u001b[0m myarray8\u001b[38;5;241m=\u001b[39m\u001b[43mnp\u001b[49m\u001b[38;5;241;43m.\u001b[39;49m\u001b[43marange\u001b[49m\u001b[43m(\u001b[49m\u001b[38;5;241;43m0\u001b[39;49m\u001b[43m,\u001b[49m\u001b[38;5;241;43m9\u001b[39;49m\u001b[43m)\u001b[49m\u001b[38;5;241;43m.\u001b[39;49m\u001b[43mreshape\u001b[49m\u001b[43m(\u001b[49m\u001b[38;5;241;43m3\u001b[39;49m\u001b[43m,\u001b[49m\u001b[38;5;241;43m5\u001b[39;49m\u001b[43m)\u001b[49m\n",
      "\u001b[1;31mValueError\u001b[0m: cannot reshape array of size 9 into shape (3,5)"
     ]
    }
   ],
   "source": [
    "myarray8=np.arange(0,9).reshape(3,5)\n",
    "# we should make the equal size of the array, as mention above\n",
    "#ValueError: cannot reshape array of size 9 into shape (3,5)"
   ]
  },
  {
   "cell_type": "code",
   "execution_count": 32,
   "id": "5aaf86e1",
   "metadata": {},
   "outputs": [
    {
     "data": {
      "text/plain": [
       "(3, 3)"
      ]
     },
     "execution_count": 32,
     "metadata": {},
     "output_type": "execute_result"
    }
   ],
   "source": [
    "myarray8.shape# it gives the shape of the array hai guys "
   ]
  },
  {
   "cell_type": "code",
   "execution_count": 34,
   "id": "85b62ebd",
   "metadata": {},
   "outputs": [
    {
     "data": {
      "text/plain": [
       "2"
      ]
     },
     "execution_count": 34,
     "metadata": {},
     "output_type": "execute_result"
    }
   ],
   "source": [
    "myarray8.ndim# it gives the no. of the dimension of the array"
   ]
  },
  {
   "cell_type": "code",
   "execution_count": 36,
   "id": "529ac33a",
   "metadata": {},
   "outputs": [
    {
     "data": {
      "text/plain": [
       "dtype('int32')"
      ]
     },
     "execution_count": 36,
     "metadata": {},
     "output_type": "execute_result"
    }
   ],
   "source": [
    "myarray8.dtype # it gives the data type of the array"
   ]
  },
  {
   "cell_type": "code",
   "execution_count": 37,
   "id": "c5644b33",
   "metadata": {},
   "outputs": [
    {
     "data": {
      "text/plain": [
       "'int32'"
      ]
     },
     "execution_count": 37,
     "metadata": {},
     "output_type": "execute_result"
    }
   ],
   "source": [
    "myarray8.dtype.name # it give name of the data type "
   ]
  },
  {
   "cell_type": "code",
   "execution_count": 39,
   "id": "1394e880",
   "metadata": {},
   "outputs": [
    {
     "data": {
      "text/plain": [
       "4"
      ]
     },
     "execution_count": 39,
     "metadata": {},
     "output_type": "execute_result"
    }
   ],
   "source": [
    "myarray8.itemsize # it gives the size of the item"
   ]
  },
  {
   "cell_type": "code",
   "execution_count": 41,
   "id": "c2e1dcbc",
   "metadata": {},
   "outputs": [
    {
     "data": {
      "text/plain": [
       "array([[0., 0., 0., 0., 0.],\n",
       "       [0., 0., 0., 0., 0.],\n",
       "       [0., 0., 0., 0., 0.],\n",
       "       [0., 0., 0., 0., 0.]])"
      ]
     },
     "execution_count": 41,
     "metadata": {},
     "output_type": "execute_result"
    }
   ],
   "source": [
    "#create the numpy arry of all 0 \n",
    "np.zeros((4,5)) # where 4 = row and 5 = columns"
   ]
  },
  {
   "cell_type": "code",
   "execution_count": 44,
   "id": "d897500c",
   "metadata": {},
   "outputs": [
    {
     "data": {
      "text/plain": [
       "array([[1., 1., 1.],\n",
       "       [1., 1., 1.],\n",
       "       [1., 1., 1.]])"
      ]
     },
     "execution_count": 44,
     "metadata": {},
     "output_type": "execute_result"
    }
   ],
   "source": [
    "#create the numpy arry of all 1\n",
    "np.ones((3,3)) # by defult it gives float"
   ]
  },
  {
   "cell_type": "code",
   "execution_count": 46,
   "id": "d1602a96",
   "metadata": {},
   "outputs": [
    {
     "data": {
      "text/plain": [
       "array([[1, 1, 1],\n",
       "       [1, 1, 1],\n",
       "       [1, 1, 1]])"
      ]
     },
     "execution_count": 46,
     "metadata": {},
     "output_type": "execute_result"
    }
   ],
   "source": [
    "#create the numpy arry of all 1\n",
    "np.ones((3,3),dtype=int)"
   ]
  },
  {
   "cell_type": "code",
   "execution_count": 47,
   "id": "cc162a59",
   "metadata": {},
   "outputs": [
    {
     "data": {
      "text/plain": [
       "array([[1, 1, 1],\n",
       "       [1, 1, 1],\n",
       "       [1, 1, 1]], dtype=int16)"
      ]
     },
     "execution_count": 47,
     "metadata": {},
     "output_type": "execute_result"
    }
   ],
   "source": [
    "#create the numpy arry of all 1\n",
    "np.ones((3,3),dtype=np.int16)"
   ]
  },
  {
   "cell_type": "code",
   "execution_count": 48,
   "id": "44930466",
   "metadata": {},
   "outputs": [
    {
     "data": {
      "text/plain": [
       "array([[1.09677995e-311, 2.47032823e-322, 0.00000000e+000,\n",
       "        0.00000000e+000],\n",
       "       [0.00000000e+000, 1.04082753e-047, 5.24775169e-090,\n",
       "        1.65609221e-047],\n",
       "       [8.41452934e+164, 5.06173311e-038, 3.99910963e+252,\n",
       "        4.93432906e+257]])"
      ]
     },
     "execution_count": 48,
     "metadata": {},
     "output_type": "execute_result"
    }
   ],
   "source": [
    "# numpy arra whose intial content is random and depends on the state of meomry\n",
    "np.empty((3,4))"
   ]
  },
  {
   "cell_type": "code",
   "execution_count": 49,
   "id": "bdfe96d3",
   "metadata": {},
   "outputs": [
    {
     "data": {
      "text/plain": [
       "array([20, 26, 32, 38, 44])"
      ]
     },
     "execution_count": 49,
     "metadata": {},
     "output_type": "execute_result"
    }
   ],
   "source": [
    "#create the numpy array of evenly spaced values (start,stop,step)\n",
    "np.arange(20,50,6)"
   ]
  },
  {
   "cell_type": "code",
   "execution_count": 53,
   "id": "bce88a17",
   "metadata": {},
   "outputs": [
    {
     "data": {
      "text/plain": [
       "array([5.        , 5.04081633, 5.08163265, 5.12244898, 5.16326531,\n",
       "       5.20408163, 5.24489796, 5.28571429, 5.32653061, 5.36734694,\n",
       "       5.40816327, 5.44897959, 5.48979592, 5.53061224, 5.57142857,\n",
       "       5.6122449 , 5.65306122, 5.69387755, 5.73469388, 5.7755102 ,\n",
       "       5.81632653, 5.85714286, 5.89795918, 5.93877551, 5.97959184,\n",
       "       6.02040816, 6.06122449, 6.10204082, 6.14285714, 6.18367347,\n",
       "       6.2244898 , 6.26530612, 6.30612245, 6.34693878, 6.3877551 ,\n",
       "       6.42857143, 6.46938776, 6.51020408, 6.55102041, 6.59183673,\n",
       "       6.63265306, 6.67346939, 6.71428571, 6.75510204, 6.79591837,\n",
       "       6.83673469, 6.87755102, 6.91836735, 6.95918367, 7.        ])"
      ]
     },
     "execution_count": 53,
     "metadata": {},
     "output_type": "execute_result"
    }
   ],
   "source": [
    "#create evenly spaced samples \n",
    "#calculated ove the interval (start,stop)\n",
    "np.linspace(5,7)"
   ]
  },
  {
   "cell_type": "code",
   "execution_count": 55,
   "id": "b5235075",
   "metadata": {},
   "outputs": [
    {
     "data": {
      "text/plain": [
       "array([[10, 10, 10, 10, 10],\n",
       "       [10, 10, 10, 10, 10],\n",
       "       [10, 10, 10, 10, 10]])"
      ]
     },
     "execution_count": 55,
     "metadata": {},
     "output_type": "execute_result"
    }
   ],
   "source": [
    "#return a new array of given shape and type \n",
    "# filled with fil value\n",
    "np.full((3,5),10)\n",
    "# where 3= no. rows,5=no.columns and 10= vlaues that need to print\n"
   ]
  },
  {
   "cell_type": "code",
   "execution_count": 58,
   "id": "a2670392",
   "metadata": {},
   "outputs": [
    {
     "data": {
      "text/plain": [
       "array([[1.]])"
      ]
     },
     "execution_count": 58,
     "metadata": {},
     "output_type": "execute_result"
    }
   ],
   "source": [
    "# create the array with digonal elment unity\n",
    "# create the identity matrix\n",
    "np.eye(1)\n",
    "#it is unity matrix"
   ]
  },
  {
   "cell_type": "code",
   "execution_count": 59,
   "id": "0d0f93fc",
   "metadata": {},
   "outputs": [
    {
     "data": {
      "text/plain": [
       "array([[1., 0.],\n",
       "       [0., 1.]])"
      ]
     },
     "execution_count": 59,
     "metadata": {},
     "output_type": "execute_result"
    }
   ],
   "source": [
    "np.eye(2,2)"
   ]
  },
  {
   "cell_type": "code",
   "execution_count": 60,
   "id": "a9cc1984",
   "metadata": {},
   "outputs": [
    {
     "data": {
      "text/plain": [
       "array([[1., 0., 0.],\n",
       "       [0., 1., 0.],\n",
       "       [0., 0., 1.]])"
      ]
     },
     "execution_count": 60,
     "metadata": {},
     "output_type": "execute_result"
    }
   ],
   "source": [
    "np.eye(3,3)"
   ]
  },
  {
   "cell_type": "code",
   "execution_count": 62,
   "id": "fe2527e0",
   "metadata": {},
   "outputs": [
    {
     "data": {
      "text/plain": [
       "array([[1., 0., 0., 0.],\n",
       "       [0., 1., 0., 0.],\n",
       "       [0., 0., 1., 0.],\n",
       "       [0., 0., 0., 1.]])"
      ]
     },
     "execution_count": 62,
     "metadata": {},
     "output_type": "execute_result"
    }
   ],
   "source": [
    "np.eye(4,4)"
   ]
  },
  {
   "cell_type": "code",
   "execution_count": 63,
   "id": "6d37624b",
   "metadata": {},
   "outputs": [
    {
     "data": {
      "text/plain": [
       "array([[1., 0., 0., 0., 0.],\n",
       "       [0., 1., 0., 0., 0.],\n",
       "       [0., 0., 1., 0., 0.],\n",
       "       [0., 0., 0., 1., 0.],\n",
       "       [0., 0., 0., 0., 1.]])"
      ]
     },
     "execution_count": 63,
     "metadata": {},
     "output_type": "execute_result"
    }
   ],
   "source": [
    "np.eye(5,5)"
   ]
  },
  {
   "cell_type": "code",
   "execution_count": 64,
   "id": "a3ac0ad5",
   "metadata": {},
   "outputs": [
    {
     "data": {
      "text/plain": [
       "array([[0.3271644 , 0.81304342, 0.64545387],\n",
       "       [0.63476455, 0.46367393, 0.11254737],\n",
       "       [0.68548926, 0.84610829, 0.49252457]])"
      ]
     },
     "execution_count": 64,
     "metadata": {},
     "output_type": "execute_result"
    }
   ],
   "source": [
    "#create the random floats in the \n",
    "# half-open interval\n",
    "np.random.random((3,3))"
   ]
  },
  {
   "cell_type": "code",
   "execution_count": null,
   "id": "99969db0",
   "metadata": {},
   "outputs": [],
   "source": []
  }
 ],
 "metadata": {
  "kernelspec": {
   "display_name": "Python 3 (ipykernel)",
   "language": "python",
   "name": "python3"
  },
  "language_info": {
   "codemirror_mode": {
    "name": "ipython",
    "version": 3
   },
   "file_extension": ".py",
   "mimetype": "text/x-python",
   "name": "python",
   "nbconvert_exporter": "python",
   "pygments_lexer": "ipython3",
   "version": "3.10.6"
  }
 },
 "nbformat": 4,
 "nbformat_minor": 5
}
