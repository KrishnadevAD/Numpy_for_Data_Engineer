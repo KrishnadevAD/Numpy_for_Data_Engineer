{
 "cells": [
  {
   "cell_type": "code",
   "execution_count": 1,
   "id": "13cadee5",
   "metadata": {},
   "outputs": [],
   "source": [
    "import numpy as np\n",
    "import pandas as pd\n",
    "import matplotlib.pyplot as plt\n",
    "import seaborn as sns\n",
    "sns.set()\n"
   ]
  },
  {
   "cell_type": "code",
   "execution_count": 2,
   "id": "3c7dd25f",
   "metadata": {},
   "outputs": [
    {
     "name": "stdout",
     "output_type": "stream",
     "text": [
      "                                                   Name   Location  \\\n",
      "0     Flat System House On Sale At Budhanikantha : H...  Kathmandu   \n",
      "1     21 Aana Beautiful House : House For Sale In Bu...  Kathmandu   \n",
      "2     Beautiful To Floor House : House For Sale In D...  Kathmandu   \n",
      "3     Modern Architecture Bungalow House : House For...  Kathmandu   \n",
      "4     Modern Bungalow House : House For Sale In Golf...  Kathmandu   \n",
      "...                                                 ...        ...   \n",
      "1478               House For Rent In Chapali, Kathmandu  Kathmandu   \n",
      "1479             House For Sale In Sitapaila, Kathmandu  Kathmandu   \n",
      "1480        House For Sale In Budhanilkantha, Kathmandu  Kathmandu   \n",
      "1481             House For Rent In Baneshwor, Kathmandu  Kathmandu   \n",
      "1482             House For Sale In Baluwatar, Kathmandu  Kathmandu   \n",
      "\n",
      "            Price  \n",
      "0      90000000.0  \n",
      "1      80000000.0  \n",
      "2      70000000.0  \n",
      "3     130000000.0  \n",
      "4     100000000.0  \n",
      "...           ...  \n",
      "1478     500000.0  \n",
      "1479   12000000.0  \n",
      "1480   27000000.0  \n",
      "1481     300000.0  \n",
      "1482   72500000.0  \n",
      "\n",
      "[1483 rows x 3 columns]\n"
     ]
    }
   ],
   "source": [
    "data =pd.read_csv(r'C:\\Users\\DELL\\Desktop\\data science DWIT\\day3task1\\KathmanduHouse.csv')\n",
    "print(data)"
   ]
  },
  {
   "cell_type": "code",
   "execution_count": 3,
   "id": "d9feba2d",
   "metadata": {},
   "outputs": [
    {
     "name": "stdout",
     "output_type": "stream",
     "text": [
      "                                                Name   Location        Price\n",
      "0  Flat System House On Sale At Budhanikantha : H...  Kathmandu   90000000.0\n",
      "1  21 Aana Beautiful House : House For Sale In Bu...  Kathmandu   80000000.0\n",
      "2  Beautiful To Floor House : House For Sale In D...  Kathmandu   70000000.0\n",
      "3  Modern Architecture Bungalow House : House For...  Kathmandu  130000000.0\n",
      "4  Modern Bungalow House : House For Sale In Golf...  Kathmandu  100000000.0\n"
     ]
    }
   ],
   "source": [
    " print(data.head())\n",
    "# print(data.tail())"
   ]
  },
  {
   "cell_type": "code",
   "execution_count": 4,
   "id": "b44e22c9",
   "metadata": {},
   "outputs": [
    {
     "name": "stdout",
     "output_type": "stream",
     "text": [
      "                                             Name   Location       Price\n",
      "1478         House For Rent In Chapali, Kathmandu  Kathmandu    500000.0\n",
      "1479       House For Sale In Sitapaila, Kathmandu  Kathmandu  12000000.0\n",
      "1480  House For Sale In Budhanilkantha, Kathmandu  Kathmandu  27000000.0\n",
      "1481       House For Rent In Baneshwor, Kathmandu  Kathmandu    300000.0\n",
      "1482       House For Sale In Baluwatar, Kathmandu  Kathmandu  72500000.0\n"
     ]
    }
   ],
   "source": [
    "  print(data.tail())"
   ]
  },
  {
   "cell_type": "code",
   "execution_count": 5,
   "id": "7f43bf59",
   "metadata": {},
   "outputs": [
    {
     "name": "stdout",
     "output_type": "stream",
     "text": [
      "the Price of house in kathmandu vallly  [90000000. 80000000. 70000000. ... 27000000.   300000. 72500000.]\n"
     ]
    }
   ],
   "source": [
    "price_RS = np.array(data[\"Price\"])\n",
    "print(\"the Price of house in kathmandu vallly \",price_RS)"
   ]
  },
  {
   "cell_type": "code",
   "execution_count": 9,
   "id": "baed3026",
   "metadata": {},
   "outputs": [
    {
     "name": "stdout",
     "output_type": "stream",
     "text": [
      "              Price\n",
      "count  1.483000e+03\n",
      "mean   3.568617e+11\n",
      "std    7.357471e+12\n",
      "min    9.000000e+01\n",
      "25%    2.000000e+06\n",
      "50%    1.400000e+07\n",
      "75%    3.250000e+07\n",
      "max    2.160000e+14\n"
     ]
    }
   ],
   "source": [
    "print(data.describe())"
   ]
  },
  {
   "cell_type": "code",
   "execution_count": 11,
   "id": "976cfc6a",
   "metadata": {},
   "outputs": [
    {
     "ename": "TypeError",
     "evalue": "'DataFrame' object is not callable",
     "output_type": "error",
     "traceback": [
      "\u001b[1;31m---------------------------------------------------------------------------\u001b[0m",
      "\u001b[1;31mTypeError\u001b[0m                                 Traceback (most recent call last)",
      "Cell \u001b[1;32mIn [11], line 1\u001b[0m\n\u001b[1;32m----> 1\u001b[0m x\u001b[38;5;241m=\u001b[39m\u001b[43mdata\u001b[49m\u001b[43m(\u001b[49m\u001b[43m[\u001b[49m\u001b[38;5;124;43m\"\u001b[39;49m\u001b[38;5;124;43mName\u001b[39;49m\u001b[38;5;124;43m\"\u001b[39;49m\u001b[43m]\u001b[49m\u001b[43m)\u001b[49m\n\u001b[0;32m      2\u001b[0m y\u001b[38;5;241m=\u001b[39mdata([\u001b[38;5;124m\"\u001b[39m\u001b[38;5;124mPrice\u001b[39m\u001b[38;5;124m\"\u001b[39m])\n",
      "\u001b[1;31mTypeError\u001b[0m: 'DataFrame' object is not callable"
     ]
    }
   ],
   "source": [
    "x=data([\"Name\"])\n",
    "y=data([\"Price\"])"
   ]
  },
  {
   "cell_type": "code",
   "execution_count": null,
   "id": "2ada5cda",
   "metadata": {},
   "outputs": [],
   "source": []
  }
 ],
 "metadata": {
  "kernelspec": {
   "display_name": "Python 3 (ipykernel)",
   "language": "python",
   "name": "python3"
  },
  "language_info": {
   "codemirror_mode": {
    "name": "ipython",
    "version": 3
   },
   "file_extension": ".py",
   "mimetype": "text/x-python",
   "name": "python",
   "nbconvert_exporter": "python",
   "pygments_lexer": "ipython3",
   "version": "3.10.6"
  }
 },
 "nbformat": 4,
 "nbformat_minor": 5
}
